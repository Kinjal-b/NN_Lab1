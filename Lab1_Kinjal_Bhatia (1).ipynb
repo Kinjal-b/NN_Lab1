{
  "nbformat": 4,
  "nbformat_minor": 0,
  "metadata": {
    "colab": {
      "provenance": []
    },
    "kernelspec": {
      "name": "python3",
      "display_name": "Python 3"
    },
    "language_info": {
      "name": "python"
    }
  },
  "cells": [
    {
      "cell_type": "markdown",
      "source": [
        "### KINJAL BHATIA"
      ],
      "metadata": {
        "id": "voDGpRVBfOFM"
      }
    },
    {
      "cell_type": "markdown",
      "source": [
        "#### LAB 1 - Develop Multilayer (Deep) Neural Network"
      ],
      "metadata": {
        "id": "lEsVaMTChC-x"
      }
    },
    {
      "cell_type": "markdown",
      "source": [
        "##### Task 1: Develop a Multilayer Neural Network\n",
        "You can use Python along with libraries like TensorFlow or PyTorch to implement the multilayer neural network according to the specified architecture. Here's a basic example using TensorFlow:"
      ],
      "metadata": {
        "id": "SVBN6tfMfQvi"
      }
    },
    {
      "cell_type": "code",
      "execution_count": 7,
      "metadata": {
        "id": "Z-ImNgsTfK8y"
      },
      "outputs": [],
      "source": [
        "import tensorflow as tf\n",
        "\n",
        "# Define the architecture\n",
        "model = tf.keras.Sequential([\n",
        "    tf.keras.layers.Dense(10, activation='relu'),   # Layer 1\n",
        "    tf.keras.layers.Dense(8, activation='relu'),    # Layer 2\n",
        "    tf.keras.layers.Dense(8, activation='relu'),    # Layer 3\n",
        "    tf.keras.layers.Dense(4, activation='relu'),    # Layer 4\n",
        "    tf.keras.layers.Dense(1, activation='sigmoid')  # Layer 5\n",
        "])\n",
        "\n",
        "# Build the model\n",
        "# model.build(input_shape=(None, 10))\n",
        "\n",
        "# Compile the model\n",
        "model.compile(optimizer='adam', loss='binary_crossentropy', metrics=['accuracy'])\n",
        "\n"
      ]
    },
    {
      "cell_type": "markdown",
      "source": [
        "#### Task 2: Develop a Training Set\n",
        "For this task, you need to gather or generate a dataset suitable for binary classification. Ensure the dataset has features and corresponding labels. You can use libraries like NumPy to create synthetic datasets or fetch datasets from sources like Kaggle, UCI Machine Learning Repository, or TensorFlow Datasets."
      ],
      "metadata": {
        "id": "_Honlj-ifscd"
      }
    },
    {
      "cell_type": "markdown",
      "source": [
        "Fabricated dataset"
      ],
      "metadata": {
        "id": "b-qbCo2WhxRP"
      }
    },
    {
      "cell_type": "code",
      "source": [
        "import numpy as np\n",
        "\n",
        "# Generate synthetic dataset for demonstration\n",
        "num_samples = 1000\n",
        "num_features = 10\n",
        "\n",
        "# Generate random features\n",
        "X = np.random.rand(num_samples, num_features)\n",
        "\n",
        "print(\"New shape of X:\", X.shape)\n",
        "\n",
        "# Generate random labels (binary classification)\n",
        "y = np.random.randint(2, size=(num_samples, 1))"
      ],
      "metadata": {
        "colab": {
          "base_uri": "https://localhost:8080/"
        },
        "id": "XgunKXAIfVWB",
        "outputId": "a2fd0606-70c3-40ac-e2b8-59d1e9607e99"
      },
      "execution_count": 21,
      "outputs": [
        {
          "output_type": "stream",
          "name": "stdout",
          "text": [
            "New shape of X: (1000, 10)\n"
          ]
        }
      ]
    },
    {
      "cell_type": "code",
      "source": [
        "# Train the model\n",
        "model.fit(X, y, epochs=50, batch_size=32, validation_split=0.2)"
      ],
      "metadata": {
        "colab": {
          "base_uri": "https://localhost:8080/"
        },
        "id": "qBf3GiwRfrph",
        "outputId": "13371ed5-2fa0-48de-c3b8-81baddf17a8b"
      },
      "execution_count": 22,
      "outputs": [
        {
          "output_type": "stream",
          "name": "stdout",
          "text": [
            "Epoch 1/50\n",
            "25/25 [==============================] - 0s 13ms/step - loss: 0.6973 - accuracy: 0.4963 - val_loss: 0.7000 - val_accuracy: 0.5100\n",
            "Epoch 2/50\n",
            "25/25 [==============================] - 0s 5ms/step - loss: 0.6924 - accuracy: 0.5163 - val_loss: 0.6930 - val_accuracy: 0.5600\n",
            "Epoch 3/50\n",
            "25/25 [==============================] - 0s 5ms/step - loss: 0.6902 - accuracy: 0.5337 - val_loss: 0.6909 - val_accuracy: 0.5500\n",
            "Epoch 4/50\n",
            "25/25 [==============================] - 0s 6ms/step - loss: 0.6895 - accuracy: 0.5387 - val_loss: 0.6902 - val_accuracy: 0.5550\n",
            "Epoch 5/50\n",
            "25/25 [==============================] - 0s 6ms/step - loss: 0.6881 - accuracy: 0.5550 - val_loss: 0.6887 - val_accuracy: 0.5700\n",
            "Epoch 6/50\n",
            "25/25 [==============================] - 0s 7ms/step - loss: 0.6870 - accuracy: 0.5612 - val_loss: 0.6889 - val_accuracy: 0.5550\n",
            "Epoch 7/50\n",
            "25/25 [==============================] - 0s 9ms/step - loss: 0.6861 - accuracy: 0.5625 - val_loss: 0.6881 - val_accuracy: 0.5800\n",
            "Epoch 8/50\n",
            "25/25 [==============================] - 0s 6ms/step - loss: 0.6859 - accuracy: 0.5675 - val_loss: 0.6878 - val_accuracy: 0.5600\n",
            "Epoch 9/50\n",
            "25/25 [==============================] - 0s 7ms/step - loss: 0.6848 - accuracy: 0.5550 - val_loss: 0.6887 - val_accuracy: 0.5700\n",
            "Epoch 10/50\n",
            "25/25 [==============================] - 0s 7ms/step - loss: 0.6842 - accuracy: 0.5638 - val_loss: 0.6875 - val_accuracy: 0.5650\n",
            "Epoch 11/50\n",
            "25/25 [==============================] - 0s 5ms/step - loss: 0.6847 - accuracy: 0.5663 - val_loss: 0.6867 - val_accuracy: 0.5550\n",
            "Epoch 12/50\n",
            "25/25 [==============================] - 0s 5ms/step - loss: 0.6834 - accuracy: 0.5713 - val_loss: 0.6860 - val_accuracy: 0.5700\n",
            "Epoch 13/50\n",
            "25/25 [==============================] - 0s 3ms/step - loss: 0.6824 - accuracy: 0.5825 - val_loss: 0.6865 - val_accuracy: 0.5700\n",
            "Epoch 14/50\n",
            "25/25 [==============================] - 0s 4ms/step - loss: 0.6815 - accuracy: 0.5800 - val_loss: 0.6867 - val_accuracy: 0.5550\n",
            "Epoch 15/50\n",
            "25/25 [==============================] - 0s 4ms/step - loss: 0.6831 - accuracy: 0.5600 - val_loss: 0.6877 - val_accuracy: 0.5450\n",
            "Epoch 16/50\n",
            "25/25 [==============================] - 0s 4ms/step - loss: 0.6806 - accuracy: 0.5775 - val_loss: 0.6872 - val_accuracy: 0.5450\n",
            "Epoch 17/50\n",
            "25/25 [==============================] - 0s 4ms/step - loss: 0.6806 - accuracy: 0.5763 - val_loss: 0.6863 - val_accuracy: 0.5600\n",
            "Epoch 18/50\n",
            "25/25 [==============================] - 0s 4ms/step - loss: 0.6792 - accuracy: 0.5838 - val_loss: 0.6870 - val_accuracy: 0.5450\n",
            "Epoch 19/50\n",
            "25/25 [==============================] - 0s 5ms/step - loss: 0.6801 - accuracy: 0.5750 - val_loss: 0.6866 - val_accuracy: 0.5500\n",
            "Epoch 20/50\n",
            "25/25 [==============================] - 0s 5ms/step - loss: 0.6797 - accuracy: 0.5800 - val_loss: 0.6853 - val_accuracy: 0.5500\n",
            "Epoch 21/50\n",
            "25/25 [==============================] - 0s 4ms/step - loss: 0.6791 - accuracy: 0.5813 - val_loss: 0.6847 - val_accuracy: 0.5700\n",
            "Epoch 22/50\n",
            "25/25 [==============================] - 0s 4ms/step - loss: 0.6780 - accuracy: 0.5813 - val_loss: 0.6858 - val_accuracy: 0.5400\n",
            "Epoch 23/50\n",
            "25/25 [==============================] - 0s 4ms/step - loss: 0.6773 - accuracy: 0.5850 - val_loss: 0.6862 - val_accuracy: 0.5600\n",
            "Epoch 24/50\n",
            "25/25 [==============================] - 0s 4ms/step - loss: 0.6780 - accuracy: 0.5813 - val_loss: 0.6875 - val_accuracy: 0.5700\n",
            "Epoch 25/50\n",
            "25/25 [==============================] - 0s 5ms/step - loss: 0.6760 - accuracy: 0.5950 - val_loss: 0.6849 - val_accuracy: 0.5550\n",
            "Epoch 26/50\n",
            "25/25 [==============================] - 0s 4ms/step - loss: 0.6757 - accuracy: 0.6000 - val_loss: 0.6867 - val_accuracy: 0.5600\n",
            "Epoch 27/50\n",
            "25/25 [==============================] - 0s 4ms/step - loss: 0.6752 - accuracy: 0.6050 - val_loss: 0.6858 - val_accuracy: 0.5500\n",
            "Epoch 28/50\n",
            "25/25 [==============================] - 0s 4ms/step - loss: 0.6745 - accuracy: 0.5975 - val_loss: 0.6854 - val_accuracy: 0.5500\n",
            "Epoch 29/50\n",
            "25/25 [==============================] - 0s 4ms/step - loss: 0.6745 - accuracy: 0.6000 - val_loss: 0.6851 - val_accuracy: 0.5550\n",
            "Epoch 30/50\n",
            "25/25 [==============================] - 0s 4ms/step - loss: 0.6743 - accuracy: 0.6012 - val_loss: 0.6836 - val_accuracy: 0.5600\n",
            "Epoch 31/50\n",
            "25/25 [==============================] - 0s 4ms/step - loss: 0.6735 - accuracy: 0.5900 - val_loss: 0.6865 - val_accuracy: 0.5500\n",
            "Epoch 32/50\n",
            "25/25 [==============================] - 0s 4ms/step - loss: 0.6720 - accuracy: 0.6000 - val_loss: 0.6839 - val_accuracy: 0.5550\n",
            "Epoch 33/50\n",
            "25/25 [==============================] - 0s 4ms/step - loss: 0.6728 - accuracy: 0.5962 - val_loss: 0.6853 - val_accuracy: 0.5500\n",
            "Epoch 34/50\n",
            "25/25 [==============================] - 0s 4ms/step - loss: 0.6714 - accuracy: 0.6000 - val_loss: 0.6849 - val_accuracy: 0.5550\n",
            "Epoch 35/50\n",
            "25/25 [==============================] - 0s 4ms/step - loss: 0.6705 - accuracy: 0.6012 - val_loss: 0.6840 - val_accuracy: 0.5650\n",
            "Epoch 36/50\n",
            "25/25 [==============================] - 0s 4ms/step - loss: 0.6710 - accuracy: 0.6050 - val_loss: 0.6843 - val_accuracy: 0.5450\n",
            "Epoch 37/50\n",
            "25/25 [==============================] - 0s 4ms/step - loss: 0.6704 - accuracy: 0.6062 - val_loss: 0.6841 - val_accuracy: 0.5600\n",
            "Epoch 38/50\n",
            "25/25 [==============================] - 0s 4ms/step - loss: 0.6697 - accuracy: 0.6087 - val_loss: 0.6845 - val_accuracy: 0.5450\n",
            "Epoch 39/50\n",
            "25/25 [==============================] - 0s 5ms/step - loss: 0.6698 - accuracy: 0.6062 - val_loss: 0.6876 - val_accuracy: 0.5500\n",
            "Epoch 40/50\n",
            "25/25 [==============================] - 0s 4ms/step - loss: 0.6683 - accuracy: 0.6050 - val_loss: 0.6840 - val_accuracy: 0.5550\n",
            "Epoch 41/50\n",
            "25/25 [==============================] - 0s 4ms/step - loss: 0.6681 - accuracy: 0.6062 - val_loss: 0.6836 - val_accuracy: 0.5400\n",
            "Epoch 42/50\n",
            "25/25 [==============================] - 0s 5ms/step - loss: 0.6673 - accuracy: 0.6050 - val_loss: 0.6855 - val_accuracy: 0.5500\n",
            "Epoch 43/50\n",
            "25/25 [==============================] - 0s 4ms/step - loss: 0.6658 - accuracy: 0.6125 - val_loss: 0.6839 - val_accuracy: 0.5600\n",
            "Epoch 44/50\n",
            "25/25 [==============================] - 0s 5ms/step - loss: 0.6660 - accuracy: 0.6150 - val_loss: 0.6855 - val_accuracy: 0.5400\n",
            "Epoch 45/50\n",
            "25/25 [==============================] - 0s 5ms/step - loss: 0.6656 - accuracy: 0.6125 - val_loss: 0.6853 - val_accuracy: 0.5400\n",
            "Epoch 46/50\n",
            "25/25 [==============================] - 0s 4ms/step - loss: 0.6658 - accuracy: 0.6150 - val_loss: 0.6858 - val_accuracy: 0.5500\n",
            "Epoch 47/50\n",
            "25/25 [==============================] - 0s 5ms/step - loss: 0.6652 - accuracy: 0.6125 - val_loss: 0.6884 - val_accuracy: 0.5450\n",
            "Epoch 48/50\n",
            "25/25 [==============================] - 0s 5ms/step - loss: 0.6655 - accuracy: 0.6150 - val_loss: 0.6840 - val_accuracy: 0.5500\n",
            "Epoch 49/50\n",
            "25/25 [==============================] - 0s 4ms/step - loss: 0.6630 - accuracy: 0.6212 - val_loss: 0.6878 - val_accuracy: 0.5500\n",
            "Epoch 50/50\n",
            "25/25 [==============================] - 0s 4ms/step - loss: 0.6642 - accuracy: 0.6288 - val_loss: 0.6876 - val_accuracy: 0.5550\n"
          ]
        },
        {
          "output_type": "execute_result",
          "data": {
            "text/plain": [
              "<keras.src.callbacks.History at 0x7c56801e84c0>"
            ]
          },
          "metadata": {},
          "execution_count": 22
        }
      ]
    },
    {
      "cell_type": "code",
      "source": [
        "\n",
        "# Print model summary\n",
        "model.summary()"
      ],
      "metadata": {
        "colab": {
          "base_uri": "https://localhost:8080/"
        },
        "id": "hjcSIqGHf_1k",
        "outputId": "9eb2cfd8-8fcc-449c-8050-884de7c23d35"
      },
      "execution_count": 10,
      "outputs": [
        {
          "output_type": "stream",
          "name": "stdout",
          "text": [
            "Model: \"sequential_2\"\n",
            "_________________________________________________________________\n",
            " Layer (type)                Output Shape              Param #   \n",
            "=================================================================\n",
            " dense_10 (Dense)            (None, 10)                110       \n",
            "                                                                 \n",
            " dense_11 (Dense)            (None, 8)                 88        \n",
            "                                                                 \n",
            " dense_12 (Dense)            (None, 8)                 72        \n",
            "                                                                 \n",
            " dense_13 (Dense)            (None, 4)                 36        \n",
            "                                                                 \n",
            " dense_14 (Dense)            (None, 1)                 5         \n",
            "                                                                 \n",
            "=================================================================\n",
            "Total params: 311 (1.21 KB)\n",
            "Trainable params: 311 (1.21 KB)\n",
            "Non-trainable params: 0 (0.00 Byte)\n",
            "_________________________________________________________________\n"
          ]
        }
      ]
    },
    {
      "cell_type": "markdown",
      "source": [
        "#### Wine Dataset"
      ],
      "metadata": {
        "id": "LtyjUH9Dhrst"
      }
    },
    {
      "cell_type": "code",
      "source": [
        "from sklearn.model_selection import train_test_split\n",
        "from sklearn.datasets import load_wine\n",
        "import pandas as pd\n",
        "\n",
        "# Load the Wine dataset\n",
        "wine = load_wine()\n",
        "\n",
        "# Convert the data into a DataFrame\n",
        "wine_df = pd.DataFrame(wine.data, columns=wine.feature_names)\n",
        "\n",
        "# Select a subset of 10 features\n",
        "X = wine_df.iloc[:, :10]\n",
        "\n",
        "# Extract target labels\n",
        "y = wine.target\n",
        "\n",
        "# Display the first few rows of the modified dataset\n",
        "print(X.head())\n",
        "\n",
        "# Split the dataset into training and testing sets\n",
        "X_train, X_test, y_train, y_test = train_test_split(X, y, test_size=0.2, random_state=42)\n",
        "\n",
        "# Train the model\n",
        "model.fit(X_train, y_train, epochs=50, batch_size=32, validation_data=(X_test, y_test))\n",
        "\n",
        "# Evaluate the model\n",
        "test_loss, test_accuracy = model.evaluate(X_test, y_test)\n",
        "print(f\"Test Loss: {test_loss}, Test Accuracy: {test_accuracy}\")"
      ],
      "metadata": {
        "colab": {
          "base_uri": "https://localhost:8080/"
        },
        "id": "qNPn5rnSgqMF",
        "outputId": "5acdf348-d5bc-4b02-f1e6-721e3fda1383"
      },
      "execution_count": 24,
      "outputs": [
        {
          "output_type": "stream",
          "name": "stdout",
          "text": [
            "   alcohol  malic_acid   ash  alcalinity_of_ash  magnesium  total_phenols  \\\n",
            "0    14.23        1.71  2.43               15.6      127.0           2.80   \n",
            "1    13.20        1.78  2.14               11.2      100.0           2.65   \n",
            "2    13.16        2.36  2.67               18.6      101.0           2.80   \n",
            "3    14.37        1.95  2.50               16.8      113.0           3.85   \n",
            "4    13.24        2.59  2.87               21.0      118.0           2.80   \n",
            "\n",
            "   flavanoids  nonflavanoid_phenols  proanthocyanins  color_intensity  \n",
            "0        3.06                  0.28             2.29             5.64  \n",
            "1        2.76                  0.26             1.28             4.38  \n",
            "2        3.24                  0.30             2.81             5.68  \n",
            "3        3.49                  0.24             2.18             7.80  \n",
            "4        2.69                  0.39             1.82             4.32  \n",
            "Epoch 1/50\n",
            "5/5 [==============================] - 0s 33ms/step - loss: 0.6863 - accuracy: 0.3169 - val_loss: 0.5948 - val_accuracy: 0.3333\n",
            "Epoch 2/50\n",
            "5/5 [==============================] - 0s 15ms/step - loss: 0.6133 - accuracy: 0.3310 - val_loss: 0.5679 - val_accuracy: 0.3333\n",
            "Epoch 3/50\n",
            "5/5 [==============================] - 0s 14ms/step - loss: 0.5606 - accuracy: 0.3521 - val_loss: 0.5613 - val_accuracy: 0.3611\n",
            "Epoch 4/50\n",
            "5/5 [==============================] - 0s 12ms/step - loss: 0.5352 - accuracy: 0.3662 - val_loss: 0.5549 - val_accuracy: 0.3889\n",
            "Epoch 5/50\n",
            "5/5 [==============================] - 0s 15ms/step - loss: 0.5178 - accuracy: 0.3732 - val_loss: 0.5501 - val_accuracy: 0.3889\n",
            "Epoch 6/50\n",
            "5/5 [==============================] - 0s 10ms/step - loss: 0.5036 - accuracy: 0.3732 - val_loss: 0.5474 - val_accuracy: 0.3889\n",
            "Epoch 7/50\n",
            "5/5 [==============================] - 0s 15ms/step - loss: 0.4926 - accuracy: 0.3873 - val_loss: 0.5448 - val_accuracy: 0.3889\n",
            "Epoch 8/50\n",
            "5/5 [==============================] - 0s 11ms/step - loss: 0.4830 - accuracy: 0.3873 - val_loss: 0.5426 - val_accuracy: 0.3889\n",
            "Epoch 9/50\n",
            "5/5 [==============================] - 0s 14ms/step - loss: 0.4776 - accuracy: 0.3873 - val_loss: 0.5407 - val_accuracy: 0.3889\n",
            "Epoch 10/50\n",
            "5/5 [==============================] - 0s 14ms/step - loss: 0.4703 - accuracy: 0.3873 - val_loss: 0.5389 - val_accuracy: 0.3889\n",
            "Epoch 11/50\n",
            "5/5 [==============================] - 0s 10ms/step - loss: 0.4652 - accuracy: 0.3944 - val_loss: 0.5371 - val_accuracy: 0.3889\n",
            "Epoch 12/50\n",
            "5/5 [==============================] - 0s 10ms/step - loss: 0.4611 - accuracy: 0.3944 - val_loss: 0.5351 - val_accuracy: 0.3889\n",
            "Epoch 13/50\n",
            "5/5 [==============================] - 0s 15ms/step - loss: 0.4560 - accuracy: 0.4014 - val_loss: 0.5333 - val_accuracy: 0.3889\n",
            "Epoch 14/50\n",
            "5/5 [==============================] - 0s 14ms/step - loss: 0.4516 - accuracy: 0.4014 - val_loss: 0.5317 - val_accuracy: 0.3889\n",
            "Epoch 15/50\n",
            "5/5 [==============================] - 0s 15ms/step - loss: 0.4503 - accuracy: 0.4014 - val_loss: 0.5304 - val_accuracy: 0.3889\n",
            "Epoch 16/50\n",
            "5/5 [==============================] - 0s 10ms/step - loss: 0.4462 - accuracy: 0.4014 - val_loss: 0.5292 - val_accuracy: 0.3889\n",
            "Epoch 17/50\n",
            "5/5 [==============================] - 0s 11ms/step - loss: 0.4439 - accuracy: 0.4014 - val_loss: 0.5280 - val_accuracy: 0.3889\n",
            "Epoch 18/50\n",
            "5/5 [==============================] - 0s 12ms/step - loss: 0.4415 - accuracy: 0.4014 - val_loss: 0.5268 - val_accuracy: 0.3889\n",
            "Epoch 19/50\n",
            "5/5 [==============================] - 0s 16ms/step - loss: 0.4392 - accuracy: 0.4014 - val_loss: 0.5255 - val_accuracy: 0.3889\n",
            "Epoch 20/50\n",
            "5/5 [==============================] - 0s 12ms/step - loss: 0.4370 - accuracy: 0.4014 - val_loss: 0.5242 - val_accuracy: 0.3889\n",
            "Epoch 21/50\n",
            "5/5 [==============================] - 0s 11ms/step - loss: 0.4348 - accuracy: 0.4014 - val_loss: 0.5230 - val_accuracy: 0.3889\n",
            "Epoch 22/50\n",
            "5/5 [==============================] - 0s 13ms/step - loss: 0.4327 - accuracy: 0.4014 - val_loss: 0.5217 - val_accuracy: 0.3889\n",
            "Epoch 23/50\n",
            "5/5 [==============================] - 0s 12ms/step - loss: 0.4305 - accuracy: 0.4014 - val_loss: 0.5205 - val_accuracy: 0.3889\n",
            "Epoch 24/50\n",
            "5/5 [==============================] - 0s 13ms/step - loss: 0.4284 - accuracy: 0.4014 - val_loss: 0.5193 - val_accuracy: 0.3889\n",
            "Epoch 25/50\n",
            "5/5 [==============================] - 0s 12ms/step - loss: 0.4263 - accuracy: 0.4014 - val_loss: 0.5182 - val_accuracy: 0.3889\n",
            "Epoch 26/50\n",
            "5/5 [==============================] - 0s 18ms/step - loss: 0.4243 - accuracy: 0.4014 - val_loss: 0.5171 - val_accuracy: 0.3889\n",
            "Epoch 27/50\n",
            "5/5 [==============================] - 0s 12ms/step - loss: 0.4222 - accuracy: 0.4014 - val_loss: 0.5160 - val_accuracy: 0.3889\n",
            "Epoch 28/50\n",
            "5/5 [==============================] - 0s 12ms/step - loss: 0.4203 - accuracy: 0.4014 - val_loss: 0.5149 - val_accuracy: 0.3889\n",
            "Epoch 29/50\n",
            "5/5 [==============================] - 0s 11ms/step - loss: 0.4185 - accuracy: 0.4014 - val_loss: 0.5138 - val_accuracy: 0.3889\n",
            "Epoch 30/50\n",
            "5/5 [==============================] - 0s 12ms/step - loss: 0.4163 - accuracy: 0.4014 - val_loss: 0.5129 - val_accuracy: 0.3889\n",
            "Epoch 31/50\n",
            "5/5 [==============================] - 0s 15ms/step - loss: 0.4147 - accuracy: 0.4014 - val_loss: 0.5118 - val_accuracy: 0.3889\n",
            "Epoch 32/50\n",
            "5/5 [==============================] - 0s 18ms/step - loss: 0.4126 - accuracy: 0.4014 - val_loss: 0.5109 - val_accuracy: 0.3889\n",
            "Epoch 33/50\n",
            "5/5 [==============================] - 0s 11ms/step - loss: 0.4109 - accuracy: 0.4014 - val_loss: 0.5100 - val_accuracy: 0.3889\n",
            "Epoch 34/50\n",
            "5/5 [==============================] - 0s 15ms/step - loss: 0.4092 - accuracy: 0.4014 - val_loss: 0.5091 - val_accuracy: 0.3889\n",
            "Epoch 35/50\n",
            "5/5 [==============================] - 0s 15ms/step - loss: 0.4075 - accuracy: 0.4014 - val_loss: 0.5082 - val_accuracy: 0.3889\n",
            "Epoch 36/50\n",
            "5/5 [==============================] - 0s 11ms/step - loss: 0.4056 - accuracy: 0.4014 - val_loss: 0.5073 - val_accuracy: 0.3889\n",
            "Epoch 37/50\n",
            "5/5 [==============================] - 0s 11ms/step - loss: 0.4041 - accuracy: 0.4014 - val_loss: 0.5063 - val_accuracy: 0.3889\n",
            "Epoch 38/50\n",
            "5/5 [==============================] - 0s 15ms/step - loss: 0.4022 - accuracy: 0.4014 - val_loss: 0.5054 - val_accuracy: 0.3889\n",
            "Epoch 39/50\n",
            "5/5 [==============================] - 0s 14ms/step - loss: 0.4005 - accuracy: 0.4014 - val_loss: 0.5045 - val_accuracy: 0.3889\n",
            "Epoch 40/50\n",
            "5/5 [==============================] - 0s 15ms/step - loss: 0.3989 - accuracy: 0.4014 - val_loss: 0.5036 - val_accuracy: 0.3889\n",
            "Epoch 41/50\n",
            "5/5 [==============================] - 0s 16ms/step - loss: 0.3970 - accuracy: 0.4014 - val_loss: 0.5028 - val_accuracy: 0.3889\n",
            "Epoch 42/50\n",
            "5/5 [==============================] - 0s 11ms/step - loss: 0.3956 - accuracy: 0.4014 - val_loss: 0.5019 - val_accuracy: 0.3889\n",
            "Epoch 43/50\n",
            "5/5 [==============================] - 0s 11ms/step - loss: 0.3938 - accuracy: 0.4014 - val_loss: 0.5011 - val_accuracy: 0.3889\n",
            "Epoch 44/50\n",
            "5/5 [==============================] - 0s 12ms/step - loss: 0.3923 - accuracy: 0.4014 - val_loss: 0.5003 - val_accuracy: 0.3889\n",
            "Epoch 45/50\n",
            "5/5 [==============================] - 0s 11ms/step - loss: 0.3909 - accuracy: 0.4014 - val_loss: 0.4996 - val_accuracy: 0.3889\n",
            "Epoch 46/50\n",
            "5/5 [==============================] - 0s 16ms/step - loss: 0.3893 - accuracy: 0.4014 - val_loss: 0.4988 - val_accuracy: 0.3889\n",
            "Epoch 47/50\n",
            "5/5 [==============================] - 0s 13ms/step - loss: 0.3878 - accuracy: 0.4014 - val_loss: 0.4980 - val_accuracy: 0.3889\n",
            "Epoch 48/50\n",
            "5/5 [==============================] - 0s 16ms/step - loss: 0.3863 - accuracy: 0.4014 - val_loss: 0.4973 - val_accuracy: 0.3889\n",
            "Epoch 49/50\n",
            "5/5 [==============================] - 0s 15ms/step - loss: 0.3848 - accuracy: 0.4014 - val_loss: 0.4966 - val_accuracy: 0.3889\n",
            "Epoch 50/50\n",
            "5/5 [==============================] - 0s 12ms/step - loss: 0.3834 - accuracy: 0.4014 - val_loss: 0.4959 - val_accuracy: 0.3889\n",
            "2/2 [==============================] - 0s 8ms/step - loss: 0.4959 - accuracy: 0.3889\n",
            "Test Loss: 0.49588292837142944, Test Accuracy: 0.3888888955116272\n"
          ]
        }
      ]
    },
    {
      "cell_type": "code",
      "source": [],
      "metadata": {
        "id": "rtiwA3k3iv1n"
      },
      "execution_count": null,
      "outputs": []
    }
  ]
}